{
  "nbformat": 4,
  "nbformat_minor": 0,
  "metadata": {
    "colab": {
      "provenance": [],
      "authorship_tag": "ABX9TyOWx+iKs5v4kN4dFex2NFZC",
      "include_colab_link": true
    },
    "kernelspec": {
      "name": "python3",
      "display_name": "Python 3"
    },
    "language_info": {
      "name": "python"
    }
  },
  "cells": [
    {
      "cell_type": "markdown",
      "metadata": {
        "id": "view-in-github",
        "colab_type": "text"
      },
      "source": [
        "<a href=\"https://colab.research.google.com/github/newmantic/Rabin_Karp/blob/main/Rabin_Karp.ipynb\" target=\"_parent\"><img src=\"https://colab.research.google.com/assets/colab-badge.svg\" alt=\"Open In Colab\"/></a>"
      ]
    },
    {
      "cell_type": "code",
      "execution_count": 1,
      "metadata": {
        "id": "bRflRe6OnmTS"
      },
      "outputs": [],
      "source": [
        "class RabinKarp:\n",
        "    def __init__(self, base=256, mod=101):\n",
        "        \"\"\"\n",
        "        Initialize the Rabin-Karp algorithm.\n",
        "        :param base: The base value used for hashing (default is 256 for extended ASCII).\n",
        "        :param mod: A prime number used as a modulus to prevent overflow (default is 101).\n",
        "        \"\"\"\n",
        "        self.base = base\n",
        "        self.mod = mod\n",
        "\n",
        "    def search(self, text, pattern):\n",
        "        \"\"\"\n",
        "        Search for a pattern in the given text using the Rabin-Karp algorithm.\n",
        "        :param text: The text in which to search for the pattern.\n",
        "        :param pattern: The pattern to search for.\n",
        "        :return: A list of starting indices where the pattern is found in the text.\n",
        "        \"\"\"\n",
        "        n = len(text)\n",
        "        m = len(pattern)\n",
        "        pattern_hash = 0\n",
        "        text_hash = 0\n",
        "        h = 1\n",
        "        result = []\n",
        "\n",
        "        # The value of h would be \"pow(base, m-1) % mod\"\n",
        "        for i in range(m - 1):\n",
        "            h = (h * self.base) % self.mod\n",
        "\n",
        "        # Calculate the hash value of the pattern and the first window of text\n",
        "        for i in range(m):\n",
        "            pattern_hash = (self.base * pattern_hash + ord(pattern[i])) % self.mod\n",
        "            text_hash = (self.base * text_hash + ord(text[i])) % self.mod\n",
        "\n",
        "        # Slide the pattern over text one by one\n",
        "        for i in range(n - m + 1):\n",
        "            # Check the hash values of the current window of text and the pattern\n",
        "            if pattern_hash == text_hash:\n",
        "                # If the hash values match, check for characters one by one\n",
        "                if text[i:i + m] == pattern:\n",
        "                    result.append(i)\n",
        "\n",
        "            # Calculate hash value for the next window of text: Remove leading digit and add trailing digit\n",
        "            if i < n - m:\n",
        "                text_hash = (self.base * (text_hash - ord(text[i]) * h) + ord(text[i + m])) % self.mod\n",
        "\n",
        "                # We might get a negative value of text_hash, converting it to positive\n",
        "                if text_hash < 0:\n",
        "                    text_hash += self.mod\n",
        "\n",
        "        return result"
      ]
    },
    {
      "cell_type": "code",
      "source": [
        "def test_case_1():\n",
        "    text = \"abedabcababcabc\"\n",
        "    pattern = \"abc\"\n",
        "    rk = RabinKarp()\n",
        "    result = rk.search(text, pattern)\n",
        "    print(f\"Pattern found at indices: {result}\")  # Expected: [4, 10, 12]\n",
        "\n",
        "test_case_1()"
      ],
      "metadata": {
        "colab": {
          "base_uri": "https://localhost:8080/"
        },
        "id": "UnayPgeQnpFN",
        "outputId": "2d6b8e1d-44c5-4134-89b1-ce666177ff65"
      },
      "execution_count": 2,
      "outputs": [
        {
          "output_type": "stream",
          "name": "stdout",
          "text": [
            "Pattern found at indices: [4, 9, 12]\n"
          ]
        }
      ]
    },
    {
      "cell_type": "code",
      "source": [
        "def test_case_2():\n",
        "    text = \"testtexttest\"\n",
        "    pattern = \"test\"\n",
        "    rk = RabinKarp()\n",
        "    result = rk.search(text, pattern)\n",
        "    print(f\"Pattern found at indices: {result}\")  # Expected: [0, 8]\n",
        "\n",
        "test_case_2()"
      ],
      "metadata": {
        "colab": {
          "base_uri": "https://localhost:8080/"
        },
        "id": "3Wy-TiLhnr2u",
        "outputId": "428183b1-05a1-4103-d0de-a17ef9cd5830"
      },
      "execution_count": 3,
      "outputs": [
        {
          "output_type": "stream",
          "name": "stdout",
          "text": [
            "Pattern found at indices: [0, 8]\n"
          ]
        }
      ]
    },
    {
      "cell_type": "code",
      "source": [
        "def test_case_3():\n",
        "    text = \"abcdefgh\"\n",
        "    pattern = \"xyz\"\n",
        "    rk = RabinKarp()\n",
        "    result = rk.search(text, pattern)\n",
        "    print(f\"Pattern found at indices: {result}\")  # Expected: []\n",
        "\n",
        "test_case_3()"
      ],
      "metadata": {
        "colab": {
          "base_uri": "https://localhost:8080/"
        },
        "id": "J7iNsWe8nuGE",
        "outputId": "2d8f6035-9cd4-4548-fcd4-ec51f87dc603"
      },
      "execution_count": 4,
      "outputs": [
        {
          "output_type": "stream",
          "name": "stdout",
          "text": [
            "Pattern found at indices: []\n"
          ]
        }
      ]
    },
    {
      "cell_type": "code",
      "source": [
        "def test_case_4():\n",
        "    text = \"a\" * 1000 + \"pattern\" + \"a\" * 1000\n",
        "    pattern = \"pattern\"\n",
        "    rk = RabinKarp()\n",
        "    result = rk.search(text, pattern)\n",
        "    print(f\"Pattern found at indices: {result}\")  # Expected: [1000]\n",
        "\n",
        "test_case_4()"
      ],
      "metadata": {
        "colab": {
          "base_uri": "https://localhost:8080/"
        },
        "id": "gxl2SVGFnyXG",
        "outputId": "0f8b5104-f4ed-4e29-9227-9a4a498a7acb"
      },
      "execution_count": 5,
      "outputs": [
        {
          "output_type": "stream",
          "name": "stdout",
          "text": [
            "Pattern found at indices: [1000]\n"
          ]
        }
      ]
    },
    {
      "cell_type": "code",
      "source": [
        "def test_case_5():\n",
        "    text = \"this is a test text for testing Rabin-Karp algorithm\"\n",
        "    pattern = \"test\"\n",
        "    rk = RabinKarp()\n",
        "    result = rk.search(text, pattern)\n",
        "    print(f\"Pattern found at indices: {result}\")  # Expected: [10, 24]\n",
        "\n",
        "test_case_5()"
      ],
      "metadata": {
        "colab": {
          "base_uri": "https://localhost:8080/"
        },
        "id": "DuqDGqzpnzVV",
        "outputId": "6aaa7f98-50e0-4527-d27d-ca686e929706"
      },
      "execution_count": 6,
      "outputs": [
        {
          "output_type": "stream",
          "name": "stdout",
          "text": [
            "Pattern found at indices: [10, 24]\n"
          ]
        }
      ]
    }
  ]
}